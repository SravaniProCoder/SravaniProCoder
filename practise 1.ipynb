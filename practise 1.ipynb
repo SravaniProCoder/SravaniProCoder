{
 "cells": [
  {
   "cell_type": "code",
   "execution_count": 1,
   "id": "ab8186e0",
   "metadata": {},
   "outputs": [
    {
     "name": "stdout",
     "output_type": "stream",
     "text": [
      "4\n"
     ]
    }
   ],
   "source": [
    "def f():\n",
    "    x=4\n",
    "    y=6\n",
    "    print(x)\n",
    "f()"
   ]
  },
  {
   "cell_type": "code",
   "execution_count": 2,
   "id": "a4c31eb6",
   "metadata": {},
   "outputs": [
    {
     "name": "stdout",
     "output_type": "stream",
     "text": [
      "a is greatertan b\n",
      "a is greaterthanequalto b\n"
     ]
    }
   ],
   "source": [
    "a=14\n",
    "b=12\n",
    "for i in range(a<b):\n",
    "    print(\"a is lessthan b\");\n",
    "else:\n",
    "    for i in range(a>b):\n",
    "        print(\"a is greatertan b\");\n",
    "    else:\n",
    "        for i in range(a<=b):\n",
    "            print(\"a is lessthanequalto b\");\n",
    "        else:\n",
    "            for i in range(a>=b):\n",
    "                print(\"a is greaterthanequalto b\");"
   ]
  },
  {
   "cell_type": "code",
   "execution_count": 13,
   "id": "591b9350",
   "metadata": {},
   "outputs": [
    {
     "name": "stdout",
     "output_type": "stream",
     "text": [
      "5\n",
      "50\n"
     ]
    }
   ],
   "source": [
    "class variable():\n",
    "    a=5\n",
    "    print(a);\n",
    "    b=10\n",
    "    print(a*b)\n",
    "    \n",
    "\n",
    "                    "
   ]
  },
  {
   "cell_type": "code",
   "execution_count": 3,
   "id": "34a36eff",
   "metadata": {},
   "outputs": [
    {
     "name": "stdout",
     "output_type": "stream",
     "text": [
      "1) 10\n"
     ]
    }
   ],
   "source": [
    "class Myclass:\n",
    "    a=10\n",
    "    print(\"1)\",a)\n",
    "    def __init__(self,x):\n",
    "        self.x=1\n",
    "        print(\"2),self.x\")\n",
    "        print(\"3),Myclass.a\")\n",
    "        def f1(self):\n",
    "            self.y=2\n",
    "            print(\"4)\",self.x)\n",
    "            print(\"5)\",self.y)\n",
    "            print(\"6)\",Myclass.a)\n",
    "            m=Myclass()\n",
    "            m.f1()\n",
    "            print(\"7)\",m.x)\n",
    "            print(\"8)\",m.y)"
   ]
  },
  {
   "cell_type": "code",
   "execution_count": null,
   "id": "7cc4eca3",
   "metadata": {},
   "outputs": [],
   "source": []
  }
 ],
 "metadata": {
  "kernelspec": {
   "display_name": "Python 3 (ipykernel)",
   "language": "python",
   "name": "python3"
  },
  "language_info": {
   "codemirror_mode": {
    "name": "ipython",
    "version": 3
   },
   "file_extension": ".py",
   "mimetype": "text/x-python",
   "name": "python",
   "nbconvert_exporter": "python",
   "pygments_lexer": "ipython3",
   "version": "3.10.1"
  }
 },
 "nbformat": 4,
 "nbformat_minor": 5
}
