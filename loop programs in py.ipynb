{
 "cells": [
  {
   "cell_type": "code",
   "execution_count": 3,
   "id": "4c9e89be",
   "metadata": {},
   "outputs": [
    {
     "name": "stdout",
     "output_type": "stream",
     "text": [
      "0\n",
      "1\n",
      "2\n",
      "3\n",
      "4\n",
      "5\n",
      "6\n",
      "7\n",
      "8\n",
      "9\n"
     ]
    }
   ],
   "source": [
    "#create the loop\n",
    "for i in range(10):\n",
    "    print(i)\n"
   ]
  },
  {
   "cell_type": "code",
   "execution_count": 14,
   "id": "93b65ddd",
   "metadata": {},
   "outputs": [
    {
     "name": "stdout",
     "output_type": "stream",
     "text": [
      "python\n",
      "0 python\n",
      "1 python\n",
      "2 python\n",
      "3 python\n",
      "4 "
     ]
    }
   ],
   "source": [
    "for i in range(5):\n",
    "    print(\"python\")\n",
    "    print(i,end=\" \")\n",
    "\n"
   ]
  },
  {
   "cell_type": "code",
   "execution_count": 26,
   "id": "07e1b7a9",
   "metadata": {},
   "outputs": [
    {
     "name": "stdout",
     "output_type": "stream",
     "text": [
      "0\n",
      "1\n",
      "2\n",
      "3\n",
      "4\n",
      "5\n",
      "6\n",
      "7\n",
      "8\n",
      "9\n",
      "1234\n"
     ]
    }
   ],
   "source": [
    "x=1234\n",
    "for i in range(10):\n",
    "    print(i)\n",
    "print(x)"
   ]
  },
  {
   "cell_type": "code",
   "execution_count": 30,
   "id": "cce56370",
   "metadata": {},
   "outputs": [
    {
     "name": "stdout",
     "output_type": "stream",
     "text": [
      "0\n",
      "0\n",
      "0\n",
      "0\n",
      "1\n",
      "1\n",
      "1\n",
      "1\n",
      "2\n",
      "2\n",
      "2\n",
      "2\n"
     ]
    }
   ],
   "source": [
    "def numbers():\n",
    "    for i in range(3):\n",
    "        for j in range(4):\n",
    "            print(i)\n",
    "numbers()            \n",
    "    "
   ]
  },
  {
   "cell_type": "code",
   "execution_count": 48,
   "id": "4f5df2ac",
   "metadata": {},
   "outputs": [
    {
     "name": "stdout",
     "output_type": "stream",
     "text": [
      "data\n",
      "python\n",
      "data\n",
      "python\n",
      "data\n",
      "python\n",
      "data\n",
      "python\n",
      "data\n",
      "python\n",
      "4\n"
     ]
    }
   ],
   "source": [
    "x=\"python\"\n",
    "for i in range(5):\n",
    "        print(\"data\")\n",
    "        print(x)\n",
    "print(i)        "
   ]
  },
  {
   "cell_type": "code",
   "execution_count": 66,
   "id": "255100b4",
   "metadata": {},
   "outputs": [
    {
     "name": "stdout",
     "output_type": "stream",
     "text": [
      "1\n",
      "2\n",
      "3\n",
      "4\n"
     ]
    }
   ],
   "source": [
    "for i in range(1,5):\n",
    "    print(i)"
   ]
  },
  {
   "cell_type": "code",
   "execution_count": 83,
   "id": "6a2a14ff",
   "metadata": {},
   "outputs": [
    {
     "name": "stdout",
     "output_type": "stream",
     "text": [
      "@,$:@,$:@,$:"
     ]
    }
   ],
   "source": [
    "def sample():\n",
    "    for i in range(3):\n",
    "        print(\"@,$\",end=\":\")\n",
    "sample()"
   ]
  },
  {
   "cell_type": "code",
   "execution_count": 4,
   "id": "05c78d2c",
   "metadata": {},
   "outputs": [
    {
     "name": "stdout",
     "output_type": "stream",
     "text": [
      "\n",
      "1 \n",
      "2 2 \n",
      "3 3 3 \n",
      "4 4 4 4 \n",
      "5 5 5 5 5 \n"
     ]
    }
   ],
   "source": [
    "for i in range(6):\n",
    "    for j in range(i):\n",
    "        print(i,end=\" \")\n",
    "    print()\n",
    "    \n"
   ]
  },
  {
   "cell_type": "code",
   "execution_count": 124,
   "id": "44ba34ae",
   "metadata": {},
   "outputs": [
    {
     "name": "stdout",
     "output_type": "stream",
     "text": [
      "p\n",
      "\n",
      " : p\n",
      "\n",
      " :  : p\n",
      "\n",
      " :  :  : p\n",
      "\n",
      " :  :  :  : p\n",
      "\n",
      " :  :  :  :  : p\n",
      "\n"
     ]
    }
   ],
   "source": [
    "def sravani():\n",
    "    x=2\n",
    "    for i in range(6):\n",
    "        for j in range(i):\n",
    "            print(end=\" : \")\n",
    "        print(\"p\")\n",
    "        print()\n",
    "\n",
    "        \n",
    "sravani()\n"
   ]
  },
  {
   "cell_type": "code",
   "execution_count": 117,
   "id": "9c7643eb",
   "metadata": {},
   "outputs": [
    {
     "name": "stdout",
     "output_type": "stream",
     "text": [
      "manass:2:1:manass:2:2:2:manass:2:3:3:3:manass:2:4:4:4:4:manass:2:5:5:5:5:5:manass:2:"
     ]
    }
   ],
   "source": [
    "def sravani():\n",
    "    x=2\n",
    "    for i in range(6):\n",
    "        for j in range(i):\n",
    "            print(i,end=\":\")\n",
    "        print(\"manass\",end=\":\")\n",
    "        print(x,end=\":\")\n",
    "\n",
    "        \n",
    "sravani()\n"
   ]
  },
  {
   "cell_type": "code",
   "execution_count": 122,
   "id": "d6af70c5",
   "metadata": {},
   "outputs": [
    {
     "name": "stdout",
     "output_type": "stream",
     "text": [
      "\n",
      "* \n",
      "* * \n",
      "* * * \n",
      "* * * * \n"
     ]
    }
   ],
   "source": [
    "for i in range(5):\n",
    "    for j in range(i):\n",
    "        print(\"*\",end=\" \")\n",
    "    print()\n",
    "    "
   ]
  },
  {
   "cell_type": "code",
   "execution_count": 130,
   "id": "db2da74e",
   "metadata": {},
   "outputs": [
    {
     "name": "stdout",
     "output_type": "stream",
     "text": [
      "ecnics atad\n"
     ]
    }
   ],
   "source": [
    "sample=\"data scince\"[::-1]\n",
    "print(sample)\n"
   ]
  },
  {
   "cell_type": "code",
   "execution_count": 3,
   "id": "770d96d5",
   "metadata": {},
   "outputs": [
    {
     "name": "stdout",
     "output_type": "stream",
     "text": [
      "data scince\n"
     ]
    }
   ],
   "source": [
    "def nami():\n",
    "    sample=\"data scince\"\n",
    "    print(sample)\n",
    "nami()\n"
   ]
  }
 ],
 "metadata": {
  "kernelspec": {
   "display_name": "Python 3 (ipykernel)",
   "language": "python",
   "name": "python3"
  },
  "language_info": {
   "codemirror_mode": {
    "name": "ipython",
    "version": 3
   },
   "file_extension": ".py",
   "mimetype": "text/x-python",
   "name": "python",
   "nbconvert_exporter": "python",
   "pygments_lexer": "ipython3",
   "version": "3.10.2"
  }
 },
 "nbformat": 4,
 "nbformat_minor": 5
}
